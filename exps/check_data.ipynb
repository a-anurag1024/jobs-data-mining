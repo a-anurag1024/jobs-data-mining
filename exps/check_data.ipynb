{
 "cells": [
  {
   "cell_type": "code",
   "execution_count": 2,
   "metadata": {},
   "outputs": [],
   "source": [
    "import mysql.connector as mysql \n",
    "\n",
    "\n",
    "conn = mysql.connect(\n",
    "    host=\"localhost\",\n",
    "    port=\"3306\",\n",
    "    user=\"local\",\n",
    "    password=\"local\",\n",
    "    database=\"jobs_data\"\n",
    ")"
   ]
  },
  {
   "cell_type": "code",
   "execution_count": 6,
   "metadata": {},
   "outputs": [
    {
     "name": "stderr",
     "output_type": "stream",
     "text": [
      "C:\\Users\\aanur\\AppData\\Local\\Temp\\ipykernel_29272\\1211333307.py:3: UserWarning: pandas only supports SQLAlchemy connectable (engine/connection) or database string URI or sqlite3 DBAPI2 connection. Other DBAPI2 objects are not tested. Please consider using SQLAlchemy.\n",
      "  scrolled_df = pd.read_sql_query(\"SELECT * FROM scrolled_jobs\", conn)\n",
      "C:\\Users\\aanur\\AppData\\Local\\Temp\\ipykernel_29272\\1211333307.py:4: UserWarning: pandas only supports SQLAlchemy connectable (engine/connection) or database string URI or sqlite3 DBAPI2 connection. Other DBAPI2 objects are not tested. Please consider using SQLAlchemy.\n",
      "  jobs_df = pd.read_sql_query(\"SELECT * FROM jobs\", conn)\n"
     ]
    }
   ],
   "source": [
    "import pandas as pd\n",
    "\n",
    "scrolled_df = pd.read_sql_query(\"SELECT * FROM scrolled_jobs\", conn)\n",
    "jobs_df = pd.read_sql_query(\"SELECT * FROM jobs\", conn)\n",
    "\n",
    "scrolled_df = scrolled_df.drop_duplicates(subset=['job_id'])"
   ]
  },
  {
   "cell_type": "code",
   "execution_count": 29,
   "metadata": {},
   "outputs": [
    {
     "data": {
      "text/plain": [
       "location                                     \n",
       "Bengaluru, Karnataka, India                      1609\n",
       "Hyderabad, Telangana, India                       551\n",
       "Pune, Maharashtra, India                          470\n",
       "Chennai, Tamil Nadu, India                        319\n",
       "Gurugram, Haryana, India                          304\n",
       "                                                 ... \n",
       "Khandala, Maharashtra, India                        1\n",
       "Kharagpur, West Bengal, India                       1\n",
       "Khed, Maharashtra, India                            1\n",
       "Kolkata metropolitan area, West Bengal, India       1\n",
       "Westchester, OH                                     1\n",
       "Name: count, Length: 283, dtype: int64"
      ]
     },
     "execution_count": 29,
     "metadata": {},
     "output_type": "execute_result"
    }
   ],
   "source": [
    "scrolled_df.value_counts(['location'])"
   ]
  },
  {
   "cell_type": "code",
   "execution_count": 30,
   "metadata": {},
   "outputs": [
    {
     "data": {
      "text/plain": [
       "seniority_level\n",
       "Mid-Senior level    1556\n",
       "Not Applicable       650\n",
       "Entry level          403\n",
       "Associate            329\n",
       "Director              54\n",
       "Internship            47\n",
       "Executive             22\n",
       "Name: count, dtype: int64"
      ]
     },
     "execution_count": 30,
     "metadata": {},
     "output_type": "execute_result"
    }
   ],
   "source": [
    "jobs_df.seniority_level.value_counts()"
   ]
  },
  {
   "cell_type": "code",
   "execution_count": 31,
   "metadata": {},
   "outputs": [
    {
     "data": {
      "text/plain": [
       "employment_type\n",
       "Full-time     2894\n",
       "Contract       119\n",
       "Internship      38\n",
       "Part-time        6\n",
       "Other            3\n",
       "Temporary        1\n",
       "Name: count, dtype: int64"
      ]
     },
     "execution_count": 31,
     "metadata": {},
     "output_type": "execute_result"
    }
   ],
   "source": [
    "jobs_df.employment_type.value_counts()"
   ]
  },
  {
   "cell_type": "code",
   "execution_count": 38,
   "metadata": {},
   "outputs": [
    {
     "data": {
      "text/plain": [
       "job_function\n",
       "Engineering and Information Technology                           1166\n",
       "Information Technology                                            682\n",
       "Information Technology and Engineering                            201\n",
       "Engineering                                                       176\n",
       "Other                                                             165\n",
       "                                                                 ... \n",
       "Engineering, Other, and Analyst                                     1\n",
       "Information Technology, Business Development, and Engineering       1\n",
       "Information Technology and Manufacturing                            1\n",
       "Customer Service                                                    1\n",
       "Engineering, Design, and Distribution                               1\n",
       "Name: count, Length: 220, dtype: int64"
      ]
     },
     "execution_count": 38,
     "metadata": {},
     "output_type": "execute_result"
    }
   ],
   "source": [
    "jobs_df.job_function.value_counts()"
   ]
  },
  {
   "cell_type": "code",
   "execution_count": 39,
   "metadata": {},
   "outputs": [
    {
     "data": {
      "text/plain": [
       "industries\n",
       "IT Services and IT Consulting                                                            753\n",
       "Software Development                                                                     473\n",
       "Financial Services                                                                       160\n",
       "Business Consulting and Services                                                         113\n",
       "Information Services and Technology, Information and Internet                             90\n",
       "                                                                                        ... \n",
       "Electric Power Generation                                                                  1\n",
       "Pharmaceutical Manufacturing and Software Development                                      1\n",
       "Software Development, Banking, and IT Services and IT Consulting                           1\n",
       "Personal Care Product Manufacturing                                                        1\n",
       "Software Development, IT Services and IT Consulting, and Media and Telecommunications      1\n",
       "Name: count, Length: 380, dtype: int64"
      ]
     },
     "execution_count": 39,
     "metadata": {},
     "output_type": "execute_result"
    }
   ],
   "source": [
    "jobs_df.industries.value_counts()"
   ]
  },
  {
   "cell_type": "code",
   "execution_count": 41,
   "metadata": {},
   "outputs": [
    {
     "data": {
      "text/plain": [
       "company\n",
       "Microsoft             156\n",
       "Accenture in India    146\n",
       "Google                141\n",
       "Turing                125\n",
       "Amazon                123\n",
       "                     ... \n",
       "66degrees               1\n",
       "Informatica             1\n",
       "Atyeti Inc              1\n",
       "Truecaller              1\n",
       "FASCOR Inc.             1\n",
       "Name: count, Length: 2067, dtype: int64"
      ]
     },
     "execution_count": 41,
     "metadata": {},
     "output_type": "execute_result"
    }
   ],
   "source": [
    "scrolled_df.company.value_counts()"
   ]
  },
  {
   "cell_type": "code",
   "execution_count": null,
   "metadata": {},
   "outputs": [],
   "source": []
  }
 ],
 "metadata": {
  "kernelspec": {
   "display_name": ".venv",
   "language": "python",
   "name": "python3"
  },
  "language_info": {
   "codemirror_mode": {
    "name": "ipython",
    "version": 3
   },
   "file_extension": ".py",
   "mimetype": "text/x-python",
   "name": "python",
   "nbconvert_exporter": "python",
   "pygments_lexer": "ipython3",
   "version": "3.10.11"
  }
 },
 "nbformat": 4,
 "nbformat_minor": 2
}
