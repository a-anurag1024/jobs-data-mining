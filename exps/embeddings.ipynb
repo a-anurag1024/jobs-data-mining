{
 "cells": [
  {
   "cell_type": "code",
   "execution_count": 1,
   "metadata": {},
   "outputs": [
    {
     "name": "stderr",
     "output_type": "stream",
     "text": [
      "c:\\Users\\aanur\\projects\\jobs-data-mining\\.venv\\lib\\site-packages\\sentence_transformers\\cross_encoder\\CrossEncoder.py:11: TqdmWarning: IProgress not found. Please update jupyter and ipywidgets. See https://ipywidgets.readthedocs.io/en/stable/user_install.html\n",
      "  from tqdm.autonotebook import tqdm, trange\n",
      "c:\\Users\\aanur\\projects\\jobs-data-mining\\.venv\\lib\\site-packages\\transformers\\tokenization_utils_base.py:1601: FutureWarning: `clean_up_tokenization_spaces` was not set. It will be set to `True` by default. This behavior will be depracted in transformers v4.45, and will be then set to `False` by default. For more details check this issue: https://github.com/huggingface/transformers/issues/31884\n",
      "  warnings.warn(\n"
     ]
    },
    {
     "name": "stdout",
     "output_type": "stream",
     "text": [
      "[[ 6.76568747e-02  6.34959042e-02  4.87131104e-02  7.93049186e-02\n",
      "   3.74480747e-02  2.65279226e-03  3.93749364e-02 -7.09846150e-03\n",
      "   5.93614243e-02  3.15370485e-02  6.00980632e-02 -5.29051423e-02\n",
      "   4.06067632e-02 -2.59308349e-02  2.98428573e-02  1.12692418e-03\n",
      "   7.35149235e-02 -5.03819659e-02 -1.22386612e-01  2.37028170e-02\n",
      "   2.97265369e-02  4.24768887e-02  2.56337821e-02  1.99516350e-03\n",
      "  -5.69190495e-02 -2.71598101e-02 -3.29035521e-02  6.60248548e-02\n",
      "   1.19007118e-01 -4.58791517e-02 -7.26214945e-02 -3.25839520e-02\n",
      "   5.23413680e-02  4.50552925e-02  8.25300440e-03  3.67023833e-02\n",
      "  -1.39415199e-02  6.53919056e-02 -2.64272559e-02  2.06394732e-04\n",
      "  -1.36643406e-02 -3.62809859e-02 -1.95043553e-02 -2.89738458e-02\n",
      "   3.94270159e-02 -8.84090960e-02  2.62424420e-03  1.36713535e-02\n",
      "   4.83062714e-02 -3.11566126e-02 -1.17329188e-01 -5.11689894e-02\n",
      "  -8.85287523e-02 -2.18962375e-02  1.42986150e-02  4.44167890e-02\n",
      "  -1.34815453e-02  7.43392333e-02  2.66382713e-02 -1.98762380e-02\n",
      "   1.79191139e-02 -1.06052430e-02 -9.04262960e-02  2.13269126e-02\n",
      "   1.41204819e-01 -6.47169817e-03 -1.40389183e-03 -1.53610008e-02\n",
      "  -8.73571560e-02  7.22173750e-02  2.01403052e-02  4.25587781e-02\n",
      "  -3.49014029e-02  3.19593935e-04 -8.02970529e-02 -3.27472091e-02\n",
      "   2.85268240e-02 -5.13658114e-02  1.09389208e-01  8.19328651e-02\n",
      "  -9.84040052e-02 -9.34095308e-02 -1.51292374e-02  4.51248139e-02\n",
      "   4.94171940e-02 -2.51867753e-02  1.57077517e-02 -1.29290774e-01\n",
      "   5.31894527e-03  4.02344344e-03 -2.34572403e-02 -6.72982857e-02\n",
      "   2.92280708e-02 -2.60845553e-02  1.30625311e-02 -3.11662890e-02\n",
      "  -4.82713468e-02 -5.58859669e-02 -3.87504995e-02  1.20010778e-01\n",
      "  -1.03924386e-02  4.89705205e-02  5.53537235e-02  4.49359268e-02\n",
      "  -4.00968594e-03 -1.02959737e-01 -2.92968675e-02 -5.83402328e-02\n",
      "   2.70472784e-02 -2.20169630e-02 -7.22241327e-02 -4.13869806e-02\n",
      "  -1.93298031e-02  2.73328042e-03  2.76954321e-04 -9.67588350e-02\n",
      "  -1.00574754e-01 -1.41922710e-02 -8.07891414e-02  4.53925617e-02\n",
      "   2.45041344e-02  5.97613640e-02 -7.38185421e-02  1.19843660e-02\n",
      "  -6.63403794e-02 -7.69045129e-02  3.85157205e-02 -5.59362036e-33\n",
      "   2.80014072e-02 -5.60784787e-02 -4.86601852e-02  2.15569809e-02\n",
      "   6.01981170e-02 -4.81403135e-02 -3.50246988e-02  1.93314105e-02\n",
      "  -1.75151899e-02 -3.89210247e-02 -3.81062599e-03 -1.70287900e-02\n",
      "   2.82099899e-02  1.28290439e-02  4.71601225e-02  6.21029660e-02\n",
      "  -6.43588603e-02  1.29285634e-01 -1.31231276e-02  5.23069575e-02\n",
      "  -3.73681150e-02  2.89094597e-02 -1.68981217e-02 -2.37330515e-02\n",
      "  -3.33491899e-02 -5.16762808e-02  1.55356778e-02  2.08803210e-02\n",
      "  -1.25371367e-02  4.59579043e-02  3.72720212e-02  2.80567016e-02\n",
      "  -5.90005741e-02 -1.16988635e-02  4.92182188e-02  4.70328853e-02\n",
      "   7.35487714e-02 -3.70529741e-02  3.98464827e-03  1.06412293e-02\n",
      "  -1.61504169e-04 -5.27166016e-02  2.75927819e-02 -3.92921716e-02\n",
      "   8.44717473e-02  4.86860760e-02 -4.85873967e-03  1.79948285e-02\n",
      "  -4.28570248e-02  1.23375449e-02  6.39958680e-03  4.04822752e-02\n",
      "   1.48887159e-02 -1.53941158e-02  7.62947872e-02  2.37043910e-02\n",
      "   4.45237271e-02  5.08195795e-02 -2.31250073e-03 -1.88736822e-02\n",
      "  -1.23335607e-02  4.66002449e-02 -5.63437976e-02  6.29926994e-02\n",
      "  -3.15535106e-02  3.24912407e-02  2.34673414e-02 -6.55437931e-02\n",
      "   2.01709215e-02  2.57082619e-02 -1.23868426e-02 -8.36497266e-03\n",
      "  -6.64378107e-02  9.43073556e-02 -3.57092544e-02 -3.42482962e-02\n",
      "  -6.66351151e-03 -8.01528059e-03 -3.09711359e-02  4.33012657e-02\n",
      "  -8.21394380e-03 -1.50795057e-01  3.07692606e-02  4.00718749e-02\n",
      "  -3.79293710e-02  1.93210796e-03  4.00530696e-02 -8.77074897e-02\n",
      "  -3.68491970e-02  8.57952144e-03 -3.19251493e-02 -1.25257950e-02\n",
      "   7.35539272e-02  1.34737941e-03  2.05919221e-02  2.71098054e-33\n",
      "  -5.18577024e-02  5.78360930e-02 -9.18985084e-02  3.94421555e-02\n",
      "   1.05576552e-01 -1.96911730e-02  6.18402213e-02 -7.63464496e-02\n",
      "   2.40880046e-02  9.40049216e-02 -1.16535477e-01  3.71198580e-02\n",
      "   5.22425286e-02 -3.95852793e-03  5.72214276e-02  5.32858539e-03\n",
      "   1.24016829e-01  1.39022050e-02 -1.10250032e-02  3.56053300e-02\n",
      "  -3.30754779e-02  8.16574246e-02 -1.52003774e-02  6.05584607e-02\n",
      "  -6.01397157e-02  3.26102711e-02 -3.48296650e-02 -1.69881713e-02\n",
      "  -9.74907652e-02 -2.71483660e-02  1.74704392e-03 -7.68982172e-02\n",
      "  -4.31858189e-02 -1.89985428e-02 -2.91660875e-02  5.77488542e-02\n",
      "   2.41821073e-02 -1.16901807e-02 -6.21434562e-02  2.84351837e-02\n",
      "  -2.37505781e-04 -2.51783226e-02  4.39636875e-03  8.12839717e-02\n",
      "   3.64184640e-02 -6.04006313e-02 -3.65517102e-02 -7.93747976e-02\n",
      "  -5.08528482e-03  6.69699311e-02 -1.17784373e-01  3.23743708e-02\n",
      "  -4.71252389e-02 -1.34460004e-02 -9.48445573e-02  8.24948866e-03\n",
      "  -1.06748501e-02 -6.81882203e-02  1.11814879e-03  2.48019882e-02\n",
      "  -6.35889396e-02  2.84492895e-02 -2.61303354e-02  8.58111158e-02\n",
      "   1.14682257e-01 -5.35345748e-02 -5.63588627e-02  4.26008478e-02\n",
      "   1.09454067e-02  2.09578555e-02  1.00131221e-01  3.26050930e-02\n",
      "  -1.84208781e-01 -3.93208340e-02 -6.91455156e-02 -6.38105422e-02\n",
      "  -6.56386018e-02 -6.41254010e-03 -4.79612164e-02 -7.68133476e-02\n",
      "   2.95384545e-02 -2.29948591e-02  4.17036749e-02 -2.50047930e-02\n",
      "  -4.54504276e-03 -4.17136587e-02 -1.32289249e-02 -6.38357475e-02\n",
      "  -2.46472144e-03 -1.37337726e-02  1.68976560e-02 -6.30398318e-02\n",
      "   8.98880959e-02  4.18171026e-02 -1.85687598e-02 -1.80442132e-08\n",
      "  -1.67998001e-02 -3.21578309e-02  6.30383566e-02 -4.13092002e-02\n",
      "   4.44818810e-02  2.02468340e-03  6.29592687e-02 -5.17374463e-03\n",
      "  -1.00443969e-02 -3.05640921e-02  3.52672413e-02  5.58581688e-02\n",
      "  -4.67125252e-02  3.45102996e-02  3.29577439e-02  4.30114195e-02\n",
      "   2.94361357e-02 -3.03164180e-02 -1.71107650e-02  7.37485141e-02\n",
      "  -5.47909513e-02  2.77515426e-02  6.20167237e-03  1.58800595e-02\n",
      "   3.42978723e-02 -5.15751261e-03  2.35079024e-02  7.53135383e-02\n",
      "   1.92843378e-02  3.36196572e-02  5.09103388e-02  1.52497068e-01\n",
      "   1.64207630e-02  2.70528849e-02  3.75162847e-02  2.18553487e-02\n",
      "   5.66333905e-02 -3.95747349e-02  7.12313205e-02 -5.41377403e-02\n",
      "   1.03775249e-03  2.11852491e-02 -3.56308930e-02  1.09016985e-01\n",
      "   2.76528345e-03  3.13997529e-02  1.38419948e-03 -3.45738791e-02\n",
      "  -4.59277406e-02  2.88083274e-02  7.16902735e-03  4.84684929e-02\n",
      "   2.61018313e-02 -9.44078062e-03  2.82169245e-02  3.48723792e-02\n",
      "   3.69098298e-02 -8.58948752e-03 -3.53205726e-02 -2.47857291e-02\n",
      "  -1.91920977e-02  3.80708203e-02  5.99654205e-02 -4.22286913e-02]\n",
      " [ 8.64385888e-02  1.02762625e-01  5.39459707e-03  2.04443373e-03\n",
      "  -9.96338483e-03  2.53854915e-02  4.92875986e-02 -3.06266025e-02\n",
      "   6.87254965e-02  1.01365959e-02  7.75397345e-02 -9.00806710e-02\n",
      "   6.10616244e-03 -5.69898821e-02  1.41715109e-02  2.80491803e-02\n",
      "  -8.68464261e-02  7.64399171e-02 -1.03491284e-01 -6.77438006e-02\n",
      "   6.99947029e-02  8.44250992e-02 -7.24911643e-03  1.04770605e-02\n",
      "   1.34020559e-02  6.77576885e-02 -9.42086428e-02 -3.71690169e-02\n",
      "   5.22617698e-02 -3.10853440e-02 -9.63406935e-02  1.57716908e-02\n",
      "   2.57866737e-02  7.85245076e-02  7.89949372e-02  1.91516597e-02\n",
      "   1.64356604e-02  3.10082524e-03  3.81311476e-02  2.37090625e-02\n",
      "   1.05389385e-02 -4.40645218e-02  4.41737957e-02 -2.58727781e-02\n",
      "   6.15378730e-02 -4.05427590e-02 -8.64140317e-02  3.19722183e-02\n",
      "  -8.90711672e-04 -2.44437046e-02 -9.19721425e-02  2.33939402e-02\n",
      "  -8.30293074e-02  4.41510305e-02 -2.49692705e-02  6.23020083e-02\n",
      "  -1.30350387e-03  7.51395151e-02  2.46385355e-02 -6.47244751e-02\n",
      "  -1.17727757e-01  3.83392163e-02 -9.11767781e-02  6.35446534e-02\n",
      "   7.62739480e-02 -8.80241320e-02  9.54555720e-03 -4.69717607e-02\n",
      "  -8.41741040e-02  3.88823487e-02 -1.14393562e-01  6.28859596e-03\n",
      "  -3.49361449e-02  2.39750501e-02 -3.31317224e-02 -1.57244224e-02\n",
      "  -3.78955230e-02 -8.81248619e-03  7.06118643e-02  3.28066498e-02\n",
      "   2.03673611e-03 -1.12278968e-01  6.79720892e-03  1.22765331e-02\n",
      "   3.35303396e-02 -1.36200739e-02 -2.25489996e-02 -2.25229003e-02\n",
      "  -2.03194115e-02  5.04297465e-02 -7.48653114e-02 -8.22822303e-02\n",
      "   7.65962675e-02  4.93392237e-02 -3.75553556e-02  1.44634712e-02\n",
      "  -5.72457686e-02 -1.79954469e-02  1.09697953e-01  1.19462803e-01\n",
      "   8.09268386e-04  6.17057718e-02  3.26322764e-02 -1.30780101e-01\n",
      "  -1.48636580e-01 -6.16232976e-02  4.33885865e-02  2.67129280e-02\n",
      "   1.39785809e-02 -3.94002721e-02 -2.52711531e-02  3.87742789e-03\n",
      "   3.58664840e-02 -6.15420565e-02  3.76660526e-02  2.67565046e-02\n",
      "  -3.82659510e-02 -3.54793482e-02 -2.39227377e-02  8.67977589e-02\n",
      "  -1.84062850e-02  7.71039501e-02  1.39864406e-03  7.00382963e-02\n",
      "  -4.77877669e-02 -7.89820403e-02  5.10814264e-02 -2.99868462e-33\n",
      "  -3.91645655e-02 -2.56207865e-03  1.65210404e-02  9.48940590e-03\n",
      "  -5.66219240e-02  6.57783151e-02 -4.77002822e-02  1.11661749e-02\n",
      "  -5.73558435e-02 -9.16261133e-03 -2.17521172e-02 -5.59531413e-02\n",
      "  -1.11422809e-02  9.32793543e-02  1.66764911e-02 -1.36723798e-02\n",
      "   4.34388593e-02  1.87245302e-03  7.29953079e-03  5.16332351e-02\n",
      "   4.80608493e-02  1.35341465e-01 -1.71738975e-02 -1.29698310e-02\n",
      "  -7.50109702e-02  2.61107646e-02  2.69802120e-02  7.83057592e-04\n",
      "  -4.87270355e-02  1.17842751e-02 -4.59580272e-02 -4.83213365e-02\n",
      "  -1.95670985e-02  1.93889216e-02  1.98806953e-02  1.67432260e-02\n",
      "   9.87801105e-02 -2.74087861e-02  2.34809071e-02  3.70228570e-03\n",
      "  -6.14514463e-02 -1.21231296e-03 -9.50475503e-03  9.25153214e-03\n",
      "   2.38443557e-02  8.61232057e-02  2.26789806e-02  5.45133953e-04\n",
      "   3.47130001e-02  6.25462923e-03 -6.92774868e-03  3.92400660e-02\n",
      "   1.15674911e-02  3.26279663e-02  6.22155741e-02  2.76114903e-02\n",
      "   1.86883453e-02  3.55805494e-02  4.11795750e-02  1.54781779e-02\n",
      "   4.22691442e-02  3.82248275e-02  1.00313397e-02 -2.83246096e-02\n",
      "   4.47052531e-02 -4.10458632e-02 -4.50545270e-03 -5.44733889e-02\n",
      "   2.62321234e-02  1.79862250e-02 -1.23118825e-01 -4.66951877e-02\n",
      "  -1.35913305e-02  6.46710396e-02  3.57347331e-03 -1.22234002e-02\n",
      "  -1.79382414e-02 -2.55502332e-02  2.37223916e-02  4.08667931e-03\n",
      "  -6.51475564e-02  4.43651825e-02  4.68596146e-02 -3.25174779e-02\n",
      "   4.02276497e-03 -3.97599488e-03  1.11939525e-02 -9.95597616e-02\n",
      "   3.33167985e-02  8.01061243e-02  9.42692235e-02 -6.38293922e-02\n",
      "   3.23151685e-02 -5.13553582e-02 -7.49877607e-03  5.30048219e-34\n",
      "  -4.13194709e-02  9.49646533e-02 -1.06401451e-01  4.96590771e-02\n",
      "  -3.41913737e-02 -3.16745937e-02 -1.71556380e-02  1.70102622e-03\n",
      "   5.79757690e-02 -1.21779484e-03 -1.68536343e-02 -5.16912863e-02\n",
      "   5.52998483e-02 -3.42647247e-02  3.08178887e-02 -3.10480911e-02\n",
      "   9.27532539e-02  3.72663662e-02 -2.37397905e-02  4.45893593e-02\n",
      "   1.46153616e-02  1.16239369e-01 -5.00113033e-02  3.88716497e-02\n",
      "   4.24749404e-03  2.56976336e-02  3.27243544e-02  4.29907702e-02\n",
      "  -1.36144692e-02  2.56122258e-02  1.06262192e-02 -8.46864283e-02\n",
      "  -9.52982306e-02  1.08399883e-01 -7.51599893e-02 -1.37773631e-02\n",
      "   6.37337789e-02 -4.49668057e-03 -3.25321183e-02  6.23614155e-02\n",
      "   3.48053165e-02 -3.54922265e-02 -2.00222526e-02  3.66608016e-02\n",
      "  -2.48837136e-02  1.01818545e-02 -7.01233149e-02 -4.31951135e-02\n",
      "   2.95332447e-02 -2.94972328e-04 -3.45386788e-02  1.46675352e-02\n",
      "  -9.83970389e-02 -4.70488630e-02 -8.85494612e-03 -8.89914334e-02\n",
      "   3.50995958e-02 -1.29602060e-01 -4.98865917e-02 -6.12047650e-02\n",
      "  -5.97797073e-02  9.46323108e-03  4.91217934e-02 -7.75026456e-02\n",
      "   8.09727088e-02 -4.79257591e-02  2.34381296e-03  7.57031143e-02\n",
      "  -2.40175966e-02 -1.52546326e-02  4.86738421e-02 -3.85969244e-02\n",
      "  -7.04831854e-02 -1.20348111e-02 -3.88790295e-02 -7.76016563e-02\n",
      "  -1.07243592e-02  1.04187867e-02 -2.13753879e-02 -9.17386487e-02\n",
      "  -1.11344801e-02 -2.96066031e-02  2.46458128e-02  4.65710554e-03\n",
      "  -1.63449813e-02 -3.95219773e-02  7.73373768e-02 -2.84732711e-02\n",
      "  -3.69939557e-03  8.27664956e-02 -1.10409195e-02  3.13983597e-02\n",
      "   5.35094738e-02  5.75145632e-02 -3.17622162e-02 -1.52911301e-08\n",
      "  -7.99661428e-02 -4.76797037e-02 -8.59788731e-02  5.69616742e-02\n",
      "  -4.08866033e-02  2.23832093e-02 -4.64441301e-03 -3.80131043e-02\n",
      "  -3.10671329e-02 -1.07278451e-02  1.97698623e-02  7.77001726e-03\n",
      "  -6.09473046e-03 -3.86376157e-02  2.80272141e-02  6.78138286e-02\n",
      "  -2.35351287e-02  3.21747661e-02  8.02539382e-03 -2.39106994e-02\n",
      "  -1.21997483e-03  3.14599164e-02 -5.24924248e-02 -8.06815084e-03\n",
      "   3.14772176e-03  5.11496887e-02 -4.44105007e-02  6.36013225e-02\n",
      "   3.85083780e-02  3.30432728e-02 -4.18726262e-03  4.95592654e-02\n",
      "  -5.69604822e-02 -6.49708882e-03 -2.49793250e-02 -1.60867237e-02\n",
      "   6.62289187e-02 -2.06310879e-02  1.08045734e-01  1.68546848e-02\n",
      "   1.43813007e-02 -1.32126966e-02 -1.29387394e-01  6.95216507e-02\n",
      "  -5.55773117e-02 -6.75413236e-02 -5.45818778e-03 -6.13590749e-03\n",
      "   3.90840806e-02 -6.28779680e-02  3.74063365e-02 -1.16570890e-02\n",
      "   1.29150404e-02 -5.52495308e-02  5.16075753e-02 -4.30837367e-03\n",
      "   5.80247566e-02  1.86944976e-02  2.27810666e-02  3.21665816e-02\n",
      "   5.37978634e-02  7.02849180e-02  7.49312118e-02 -8.41775313e-02]]\n"
     ]
    },
    {
     "name": "stderr",
     "output_type": "stream",
     "text": [
      "c:\\Users\\aanur\\projects\\jobs-data-mining\\.venv\\lib\\site-packages\\transformers\\models\\bert\\modeling_bert.py:439: UserWarning: 1Torch was not compiled with flash attention. (Triggered internally at ..\\aten\\src\\ATen\\native\\transformers\\cuda\\sdp_utils.cpp:455.)\n",
      "  attn_output = torch.nn.functional.scaled_dot_product_attention(\n"
     ]
    }
   ],
   "source": [
    "from sentence_transformers import SentenceTransformer\n",
    "sentences = [\"This is an example sentence\", \"Each sentence is converted\"]\n",
    "\n",
    "model = SentenceTransformer('sentence-transformers/all-MiniLM-L6-v2', cache_folder=\"C:\\\\Users\\\\aanur\\\\projects\\\\jobs-data-mining\\\\mount\\\\all-MiniLM-L6-v2\")\n",
    "embeddings = model.encode(sentences)\n",
    "print(embeddings)"
   ]
  },
  {
   "cell_type": "code",
   "execution_count": 2,
   "metadata": {},
   "outputs": [
    {
     "data": {
      "text/plain": [
       "SentenceTransformer(\n",
       "  (0): Transformer({'max_seq_length': 256, 'do_lower_case': False}) with Transformer model: BertModel \n",
       "  (1): Pooling({'word_embedding_dimension': 384, 'pooling_mode_cls_token': False, 'pooling_mode_mean_tokens': True, 'pooling_mode_max_tokens': False, 'pooling_mode_mean_sqrt_len_tokens': False, 'pooling_mode_weightedmean_tokens': False, 'pooling_mode_lasttoken': False, 'include_prompt': True})\n",
       "  (2): Normalize()\n",
       ")"
      ]
     },
     "execution_count": 2,
     "metadata": {},
     "output_type": "execute_result"
    }
   ],
   "source": [
    "model.to('cuda')"
   ]
  },
  {
   "cell_type": "code",
   "execution_count": 3,
   "metadata": {},
   "outputs": [
    {
     "data": {
      "text/plain": [
       "device(type='cuda', index=0)"
      ]
     },
     "execution_count": 3,
     "metadata": {},
     "output_type": "execute_result"
    }
   ],
   "source": [
    "model.device"
   ]
  },
  {
   "cell_type": "code",
   "execution_count": 9,
   "metadata": {},
   "outputs": [
    {
     "name": "stdout",
     "output_type": "stream",
     "text": [
      "0.03600955009460449\n"
     ]
    }
   ],
   "source": [
    "import time \n",
    "start = time.time()\n",
    "embeddings = model.encode(sentences[0])\n",
    "en = time.time()\n",
    "print(en-start)"
   ]
  },
  {
   "cell_type": "code",
   "execution_count": 10,
   "metadata": {},
   "outputs": [
    {
     "data": {
      "text/plain": [
       "numpy.ndarray"
      ]
     },
     "execution_count": 10,
     "metadata": {},
     "output_type": "execute_result"
    }
   ],
   "source": [
    "type(embeddings)"
   ]
  },
  {
   "cell_type": "code",
   "execution_count": 12,
   "metadata": {},
   "outputs": [
    {
     "data": {
      "text/plain": [
       "(384,)"
      ]
     },
     "execution_count": 12,
     "metadata": {},
     "output_type": "execute_result"
    }
   ],
   "source": [
    "embeddings.shape"
   ]
  },
  {
   "cell_type": "code",
   "execution_count": 2,
   "metadata": {},
   "outputs": [],
   "source": [
    "from qdrant_client import QdrantClient\n",
    "\n",
    "client = QdrantClient(url=\"http://localhost:6333\")"
   ]
  },
  {
   "cell_type": "code",
   "execution_count": 27,
   "metadata": {},
   "outputs": [
    {
     "data": {
      "text/plain": [
       "True"
      ]
     },
     "execution_count": 27,
     "metadata": {},
     "output_type": "execute_result"
    }
   ],
   "source": [
    "from qdrant_client.models import Distance, VectorParams\n",
    "\n",
    "client.create_collection(\n",
    "    collection_name=\"top_skills\",\n",
    "    vectors_config=VectorParams(size=384, distance=Distance.COSINE),\n",
    ")"
   ]
  },
  {
   "cell_type": "code",
   "execution_count": 46,
   "metadata": {},
   "outputs": [
    {
     "data": {
      "text/plain": [
       "True"
      ]
     },
     "execution_count": 46,
     "metadata": {},
     "output_type": "execute_result"
    }
   ],
   "source": [
    "client.collection_exists(collection_name=\"top_skills\")"
   ]
  },
  {
   "cell_type": "code",
   "execution_count": 45,
   "metadata": {},
   "outputs": [
    {
     "data": {
      "text/plain": [
       "<enum 'Distance'>"
      ]
     },
     "execution_count": 45,
     "metadata": {},
     "output_type": "execute_result"
    }
   ],
   "source": [
    "type(Distance.COSINE)"
   ]
  },
  {
   "cell_type": "code",
   "execution_count": 5,
   "metadata": {},
   "outputs": [],
   "source": [
    "from data_miner.db.top_skills import TopSkillsTable, DB_Creds\n",
    "\n",
    "db_creds = DB_Creds(\n",
    "    host=\"localhost\",\n",
    "    port=\"3306\",\n",
    "    user=\"local\",\n",
    "    password=\"local\",\n",
    "    database=\"jobs_data\"\n",
    ")\n",
    "\n",
    "top_skills_table = TopSkillsTable(db_creds)"
   ]
  },
  {
   "cell_type": "code",
   "execution_count": 6,
   "metadata": {},
   "outputs": [],
   "source": [
    "top_skills = top_skills_table.get_all_top_skills()"
   ]
  },
  {
   "cell_type": "code",
   "execution_count": 64,
   "metadata": {},
   "outputs": [
    {
     "name": "stdout",
     "output_type": "stream",
     "text": [
      "Pandas(Index=0, id=1, entry_date=Timestamp('2024-09-01 06:38:10'), job_id='%E2%80%8B%E2%80%8Bsoftware-engineer%E2%80%8B-at-microsoft-3974756992', top_skills='Proficient coding skills in Java or Scala or Python#Knowledge of SQL#Familiarity with distributed systems like Spark#Git#Maven#Azure DevOps#Data Engineering#Data Science#Data Integration#Experience in Cloud Developer toolchains (AWS or MS Azure)', number_of_skills=10, exact_llm_output='Based on the job description, here are the top skills required for the role:\\n\\n1. Proficient coding skills in Java or Scala or Python\\n2. Knowledge of SQL\\n3. Familiarity with distributed systems like Spark\\n4. Git\\n5. Maven\\n6. Azure DevOps\\n7. Data Engineering\\n8. Data Science\\n9. Data Integration\\n10. Experience in Cloud Developer toolchains (AWS or MS Azure)\\n\\nThese skills are critical for designing and implementing software components, participating in code reviews, and assisting customers in leveraging the services offered by Microsoft Fabric.')\n",
      "Pandas(Index=1, id=2, entry_date=Timestamp('2024-09-01 06:38:10'), job_id='1608-96431y24-react-js-developer-infosys-bangalore-at-trigent-software-inc-4001900009', top_skills='**React**#**JavaScript**#**Typescript**#**Redux**#**HTML/CSS**#**React JS Hooks**', number_of_skills=6, exact_llm_output='Based on the job description, here are the top skills required:\\n\\n1. **React**\\n2. **JavaScript**\\n3. **Typescript**\\n4. **Redux**\\n5. **HTML/CSS**\\n6. **React JS Hooks**\\n\\nNote that the other skills mentioned in the job description, such as unit/integration testing and debugging, RESTful APIs, and leadership, are important but not necessarily top priority for this role.')\n",
      "Pandas(Index=2, id=3, entry_date=Timestamp('2024-09-01 06:38:10'), job_id='7%2B-years-python-engineer-pune-immediate-joiner-to-30-days-required-at-luxoft-india-4002787592', top_skills='Python#Enterprise SDLC (Software Development Life Cycle)#CI/CD pipelines#GitOps/DevOps tools (e.g., GitLab, Azure DevOps)#Common algorithms#Data structures#Public cloud providers (MS Azure)#Solid understanding of software engineering principles (testability, scalability, maintainability, tech debt, tests coverage, code quality)#Peer review and code integration skills#Strong learning capabilities and adaptability', number_of_skills=10, exact_llm_output='Based on the job description, here are the top skills required:\\n\\n1. Python\\n2. Enterprise SDLC (Software Development Life Cycle)\\n3. CI/CD pipelines\\n4. GitOps/DevOps tools (e.g., GitLab, Azure DevOps)\\n5. Common algorithms\\n6. Data structures\\n7. Public cloud providers (MS Azure)\\n8. Solid understanding of software engineering principles (testability, scalability, maintainability, tech debt, tests coverage, code quality)\\n9. Peer review and code integration skills\\n10. Strong learning capabilities and adaptability')\n",
      "Pandas(Index=3, id=4, entry_date=Timestamp('2024-09-01 06:38:10'), job_id='a-a-data-science-manager-at-deloitte-3931503455', top_skills='**Machine Learning frameworks** (TensorFlow, PyTorch, OpenAI)#**Cloud-based ecosystem experience** (Azure, GCP, AWS)#**Python programming language**#**Deep understanding of machine learning model development life cycles**#**Expertise in AI and NLP**, including generative AI, prompt engineering, LLMs#**Agile working environment experience** (Azure DevOps, Jira)#**DevOps tools knowledge** (Docker, Jenkins, Kubernetes)#**Data Science project management skills**#**Strong written and verbal communication skills**#**Experience with Microsoft Azure**, including certification in machine learning', number_of_skills=10, exact_llm_output='Based on the job description, here are the top skills required for the Data Science Manager role at Deloitte:\\n\\n1. **Machine Learning frameworks** (TensorFlow, PyTorch, OpenAI)\\n2. **Cloud-based ecosystem experience** (Azure, GCP, AWS)\\n3. **Python programming language**\\n4. **Deep understanding of machine learning model development life cycles**\\n5. **Expertise in AI and NLP**, including generative AI, prompt engineering, LLMs\\n6. **Agile working environment experience** (Azure DevOps, Jira)\\n7. **DevOps tools knowledge** (Docker, Jenkins, Kubernetes)\\n8. **Data Science project management skills**\\n9. **Strong written and verbal communication skills**\\n10. **Experience with Microsoft Azure**, including certification in machine learning\\n\\nPlease note that these are the top 10 skills required for the role, in decreasing order of importance.')\n",
      "Pandas(Index=4, id=5, entry_date=Timestamp('2024-09-01 06:38:10'), job_id='aaos-infotainment-engineer-at-talent-ocean-3994259640', top_skills='Google Android#Google Automotive Services (GAS)#Android Automotive OS#Infotainment development#Automated tests#Validation#Certification test activities#Release flows#Google Maps#Google Play Services', number_of_skills=10, exact_llm_output='Based on the job description, here are the top skills required in decreasing order of importance:\\n\\n1. Google Android\\n2. Google Automotive Services (GAS)\\n3. Android Automotive OS\\n4. Infotainment development\\n5. Automated tests\\n6. Validation\\n7. Certification test activities\\n8. Release flows\\n9. Google Maps\\n10. Google Play Services')\n",
      "Pandas(Index=5, id=6, entry_date=Timestamp('2024-09-01 06:38:10'), job_id='abinitio-engineer-at-tech-mahindra-3984540949', top_skills='Ab Initio GDE#ETL processes#Data integration concepts#SQL#Relational databases#Data modeling#Unix shell scripting#Problem-solving abilities#Analytical skills#Communication skills', number_of_skills=10, exact_llm_output='Based on the job description, here are the top skills required:\\n\\n1. Ab Initio GDE\\n2. ETL processes\\n3. Data integration concepts\\n4. SQL\\n5. Relational databases\\n6. Data modeling\\n7. Unix shell scripting\\n8. Problem-solving abilities\\n9. Analytical skills\\n10. Communication skills')\n",
      "Pandas(Index=6, id=7, entry_date=Timestamp('2024-09-01 06:38:10'), job_id='adas-ai-application-developer-at-renesas-electronics-3991637960', top_skills='C/C++ programming#Embedded system development with R-CAR SOC#Linux OS software design (with QNX as a plus)#Computer vision and radar applications experience#ARM architecture expertise#Debugging and troubleshooting skills#Proven track record in software development and application bring-up#Good communication skills and English proficiency#Teamwork and collaboration skills#Experience with simulator and hardware environment', number_of_skills=10, exact_llm_output='Based on the job description, here are the top skills required for an ADAS Application Engineer for Hardware Accelerators:\\n\\n1. C/C++ programming\\n2. Embedded system development with R-CAR SOC\\n3. Linux OS software design (with QNX as a plus)\\n4. Computer vision and radar applications experience\\n5. ARM architecture expertise\\n6. Debugging and troubleshooting skills\\n7. Proven track record in software development and application bring-up\\n8. Good communication skills and English proficiency\\n9. Teamwork and collaboration skills\\n10. Experience with simulator and hardware environment')\n",
      "Pandas(Index=7, id=8, entry_date=Timestamp('2024-09-01 06:38:10'), job_id='advanced-analytics-consultant-at-infocepts-3993255333', top_skills='**Machine Learning algorithms**#**Data wrangling and preprocessing** (SQL, Python, or R)#**Statistical methods and hypothesis testing**#**Business process understanding**#**Cloud platforms** (AWS, Azure, or Google Cloud)#**Data Visualization Tools** (Tableau, Power BI)#**Big Data platforms and tools** (Hadoop, Spark, or Kafka)#**Python programming language**#**R programming language**#**SQL programming language**', number_of_skills=10, exact_llm_output='Based on the job description, here are the top skills required for the Advanced Analytics Consultant position:\\n\\n1. **Machine Learning algorithms**\\n2. **Data wrangling and preprocessing** (SQL, Python, or R)\\n3. **Statistical methods and hypothesis testing**\\n4. **Business process understanding**\\n5. **Cloud platforms** (AWS, Azure, or Google Cloud)\\n6. **Data Visualization Tools** (Tableau, Power BI)\\n7. **Big Data platforms and tools** (Hadoop, Spark, or Kafka)\\n8. **Python programming language**\\n9. **R programming language**\\n10. **SQL programming language**\\n\\nThese skills are a mix of technical, domain-specific, and theory-specific requirements that are crucial for the role.')\n",
      "Pandas(Index=8, id=9, entry_date=Timestamp('2024-09-01 06:38:10'), job_id='advanced-ml-engineer-at-honeywell-3985163056', top_skills='**Machine Learning frameworks** (Keras, Tensorflow, PyTorch, HuggingFace Transformers)#**Python programming**#**Distributed computing frameworks** (Spark, Kubernetes ecosystem)#**MLOps Architecture and MLflows** (Azure Databricks/Azure AWS)#**ETL process**#**Containerization services** (Docker)#**Deep Learning concepts** (classification, clustering, optimization, NLP)#**Cloud platforms** (AWS, Azure)#**Data processing frameworks** (PySpark)#**MLOps Stacks** (Azure ML, Databricks)', number_of_skills=10, exact_llm_output='Based on the job description, here are the top skills required for the Advanced Machine Learning Engineer role:\\n\\n1. **Machine Learning frameworks** (Keras, Tensorflow, PyTorch, HuggingFace Transformers)\\n2. **Python programming**\\n3. **Distributed computing frameworks** (Spark, Kubernetes ecosystem)\\n4. **MLOps Architecture and MLflows** (Azure Databricks/Azure AWS)\\n5. **ETL process**\\n6. **Containerization services** (Docker)\\n7. **Deep Learning concepts** (classification, clustering, optimization, NLP)\\n8. **Cloud platforms** (AWS, Azure)\\n9. **Data processing frameworks** (PySpark)\\n10. **MLOps Stacks** (Azure ML, Databricks)\\n\\nNote that some of these skills may be mentioned as \"proficient\" in the job description, but I\\'ve extracted them as key requirements for the role.')\n",
      "Pandas(Index=9, id=10, entry_date=Timestamp('2024-09-01 06:38:10'), job_id='advanced-python-engineer-for-ai-solutions-at-cutting-edge-search-3980830143', top_skills='**Python programming**#**Business acumen and analytical skills**#**Jupyter notebook development**#**Algorithmic problem-solving**#**Software Quality Assurance (SQA) experience** (optional)#**Attention to detail**#**Excellent English communication skills**', number_of_skills=7, exact_llm_output=\"Here are the top skills required for the Senior Python Developer role:\\n\\n1. **Python programming**\\n2. **Business acumen and analytical skills**\\n3. **Jupyter notebook development**\\n4. **Algorithmic problem-solving**\\n5. **Software Quality Assurance (SQA) experience** (optional)\\n6. **Attention to detail**\\n7. **Excellent English communication skills**\\n\\nNote: I've prioritized the skills based on their relevance to the job description, with Python programming being the most critical skill required for the role.\")\n"
     ]
    }
   ],
   "source": [
    "for top_sil in top_skills.iloc[:10].itertuples():\n",
    "    print(top_sil)"
   ]
  },
  {
   "cell_type": "code",
   "execution_count": 8,
   "metadata": {},
   "outputs": [],
   "source": [
    "tp_skls = top_skills['top_skills'].to_list()"
   ]
  },
  {
   "cell_type": "code",
   "execution_count": 10,
   "metadata": {},
   "outputs": [
    {
     "data": {
      "text/plain": [
       "['Proficient coding skills in Java or Scala or Python',\n",
       " 'Knowledge of SQL',\n",
       " 'Familiarity with distributed systems like Spark',\n",
       " 'Git',\n",
       " 'Maven',\n",
       " 'Azure DevOps',\n",
       " 'Data Engineering',\n",
       " 'Data Science',\n",
       " 'Data Integration',\n",
       " 'Experience in Cloud Developer toolchains (AWS or MS Azure)']"
      ]
     },
     "execution_count": 10,
     "metadata": {},
     "output_type": "execute_result"
    }
   ],
   "source": [
    "tp_skls[0].split('#')"
   ]
  },
  {
   "cell_type": "code",
   "execution_count": null,
   "metadata": {},
   "outputs": [],
   "source": [
    "from sentence_transformers import SentenceTransformer\n",
    "sentences = [\"This is an example sentence\", \"Each sentence is converted\"]\n",
    "\n",
    "model = SentenceTransformer('sentence-transformers/all-MiniLM-L6-v2', cache_folder=\"C:\\\\Users\\\\aanur\\\\projects\\\\jobs-data-mining\\\\mount\\\\all-MiniLM-L6-v2\")"
   ]
  },
  {
   "cell_type": "code",
   "execution_count": 50,
   "metadata": {},
   "outputs": [],
   "source": [
    "embs = model.encode(tp_skls[0].split('#'))"
   ]
  },
  {
   "cell_type": "code",
   "execution_count": 52,
   "metadata": {},
   "outputs": [
    {
     "data": {
      "text/plain": [
       "(384,)"
      ]
     },
     "execution_count": 52,
     "metadata": {},
     "output_type": "execute_result"
    }
   ],
   "source": [
    "embs.shape"
   ]
  },
  {
   "cell_type": "code",
   "execution_count": 86,
   "metadata": {},
   "outputs": [
    {
     "name": "stdout",
     "output_type": "stream",
     "text": [
      "(1, 384)\n",
      "(2, 384)\n",
      "(3, 384)\n",
      "(4, 384)\n",
      "(5, 384)\n",
      "(6, 384)\n",
      "(7, 384)\n",
      "(8, 384)\n",
      "(9, 384)\n",
      "(10, 384)\n"
     ]
    }
   ],
   "source": [
    "import numpy as np\n",
    "\n",
    "embs = np.array([])\n",
    "for sk in tp_skls[0].split('#'):\n",
    "    if embs.shape[0] == 0:\n",
    "        embs = model.encode(sk).reshape(1, -1)\n",
    "    else:\n",
    "        embs = np.append(embs, model.encode(sk).reshape(1, -1), axis=0)\n",
    "    print(embs.shape)"
   ]
  },
  {
   "cell_type": "code",
   "execution_count": 19,
   "metadata": {},
   "outputs": [],
   "source": [
    "from qdrant_client import QdrantClient\n",
    "\n",
    "client = QdrantClient(url=\"http://localhost:6333\")"
   ]
  },
  {
   "cell_type": "code",
   "execution_count": 22,
   "metadata": {},
   "outputs": [
    {
     "data": {
      "text/plain": [
       "{'id': 1,\n",
       " 'entry_date': Timestamp('2024-09-01 06:38:10'),\n",
       " 'job_id': '%E2%80%8B%E2%80%8Bsoftware-engineer%E2%80%8B-at-microsoft-3974756992',\n",
       " 'top_skills': 'Proficient coding skills in Java or Scala or Python#Knowledge of SQL#Familiarity with distributed systems like Spark#Git#Maven#Azure DevOps#Data Engineering#Data Science#Data Integration#Experience in Cloud Developer toolchains (AWS or MS Azure)',\n",
       " 'number_of_skills': 10,\n",
       " 'exact_llm_output': 'Based on the job description, here are the top skills required for the role:\\n\\n1. Proficient coding skills in Java or Scala or Python\\n2. Knowledge of SQL\\n3. Familiarity with distributed systems like Spark\\n4. Git\\n5. Maven\\n6. Azure DevOps\\n7. Data Engineering\\n8. Data Science\\n9. Data Integration\\n10. Experience in Cloud Developer toolchains (AWS or MS Azure)\\n\\nThese skills are critical for designing and implementing software components, participating in code reviews, and assisting customers in leveraging the services offered by Microsoft Fabric.'}"
      ]
     },
     "execution_count": 22,
     "metadata": {},
     "output_type": "execute_result"
    }
   ],
   "source": [
    "top_skills.iloc[0].to_dict()"
   ]
  },
  {
   "cell_type": "code",
   "execution_count": 43,
   "metadata": {},
   "outputs": [],
   "source": [
    "from qdrant_client.models import PointStruct\n",
    "import uuid\n",
    "\n",
    "job = top_skills.iloc[0].to_dict()\n",
    "payload_base = {'job_id': job['job_id']}\n",
    "points = [\n",
    "        PointStruct(id=uuid.uuid4().__str__(), vector=model.encode(skill), payload={**payload_base, 'skill': skill, 'rank': rank+1})\n",
    "        for rank, skill in enumerate(tp_skls[0].split('#'))\n",
    "    ]\n",
    "\n",
    "operation_info = client.upsert(\n",
    "    collection_name=\"top_skills\",\n",
    "    wait=True,\n",
    "    points=points,\n",
    ")"
   ]
  },
  {
   "cell_type": "code",
   "execution_count": 49,
   "metadata": {},
   "outputs": [
    {
     "data": {
      "text/plain": [
       "'completed'"
      ]
     },
     "execution_count": 49,
     "metadata": {},
     "output_type": "execute_result"
    }
   ],
   "source": [
    "operation_info.__dict__['status'].value"
   ]
  },
  {
   "cell_type": "code",
   "execution_count": null,
   "metadata": {},
   "outputs": [],
   "source": []
  }
 ],
 "metadata": {
  "kernelspec": {
   "display_name": ".venv",
   "language": "python",
   "name": "python3"
  },
  "language_info": {
   "codemirror_mode": {
    "name": "ipython",
    "version": 3
   },
   "file_extension": ".py",
   "mimetype": "text/x-python",
   "name": "python",
   "nbconvert_exporter": "python",
   "pygments_lexer": "ipython3",
   "version": "3.10.11"
  }
 },
 "nbformat": 4,
 "nbformat_minor": 2
}
